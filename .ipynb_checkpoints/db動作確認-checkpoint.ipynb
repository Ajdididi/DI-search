{
 "cells": [
  {
   "cell_type": "code",
   "execution_count": 1,
   "id": "e8298a15",
   "metadata": {},
   "outputs": [],
   "source": [
    "#新旧Excelファイルからdbを作成し、実行するたびに各Excelに対応するTableを上書きする\n",
    "import pandas as pd\n",
    "import sqlite3"
   ]
  },
  {
   "cell_type": "code",
   "execution_count": 9,
   "id": "97e8be18-8842-4a1c-8c27-9bddbee0242d",
   "metadata": {},
   "outputs": [
    {
     "name": "stderr",
     "output_type": "stream",
     "text": [
      "c:\\Users\\AKIE01-2022\\AppData\\Local\\Programs\\Python\\Python311\\Lib\\site-packages\\openpyxl\\worksheet\\_reader.py:312: UserWarning: Data Validation extension is not supported and will be removed\n",
      "  warn(msg)\n",
      "C:\\Users\\AKIE01-2022\\AppData\\Local\\Temp\\ipykernel_15528\\2035283265.py:2: FutureWarning: Inferring datetime64[ns] from data containing strings is deprecated and will be removed in a future version. To retain the old behavior explicitly pass Series(data, dtype=datetime64[ns])\n",
      "  df = pd.read_excel('★個人情報削除【2021.12月まで】問い合わせ件数管理.xlsx', header=0)\n",
      "C:\\Users\\AKIE01-2022\\AppData\\Local\\Temp\\ipykernel_15528\\2035283265.py:4: FutureWarning: DataFrame.set_axis 'inplace' keyword is deprecated and will be removed in a future version. Use `obj = obj.set_axis(..., copy=False)` instead\n",
      "  df.set_axis(['date', 'category', 'drug', 'question', 'answer'], axis=1, inplace=True)\n"
     ]
    }
   ],
   "source": [
    "\n",
    "#Excelファイル読込みと加工（旧データファイル）\n",
    "df = pd.read_excel('★個人情報削除【2021.12月まで】問い合わせ件数管理.xlsx', header=0)\n",
    "df.drop(df.columns[[1, 2, 3, 4, 5, 8]], axis=1, inplace=True)\n",
    "df.set_axis(['date', 'category', 'drug', 'question', 'answer'], axis=1, inplace=True)\n",
    "df.set_index('date', inplace=True)\n",
    "df.fillna('―', inplace=True)\n",
    "\n"
   ]
  },
  {
   "cell_type": "code",
   "execution_count": 10,
   "id": "b079764b-e840-45b9-b214-cceaad6aea8d",
   "metadata": {},
   "outputs": [
    {
     "data": {
      "text/html": [
       "<div>\n",
       "<style scoped>\n",
       "    .dataframe tbody tr th:only-of-type {\n",
       "        vertical-align: middle;\n",
       "    }\n",
       "\n",
       "    .dataframe tbody tr th {\n",
       "        vertical-align: top;\n",
       "    }\n",
       "\n",
       "    .dataframe thead th {\n",
       "        text-align: right;\n",
       "    }\n",
       "</style>\n",
       "<table border=\"1\" class=\"dataframe\">\n",
       "  <thead>\n",
       "    <tr style=\"text-align: right;\">\n",
       "      <th></th>\n",
       "      <th>category</th>\n",
       "      <th>drug</th>\n",
       "      <th>question</th>\n",
       "      <th>answer</th>\n",
       "    </tr>\n",
       "    <tr>\n",
       "      <th>date</th>\n",
       "      <th></th>\n",
       "      <th></th>\n",
       "      <th></th>\n",
       "      <th></th>\n",
       "    </tr>\n",
       "  </thead>\n",
       "  <tbody>\n",
       "    <tr>\n",
       "      <th>2014-01-06</th>\n",
       "      <td>安定性</td>\n",
       "      <td>エンドキサン</td>\n",
       "      <td>エンドキサンが10日くらい室温で保管されていた。安定性に問題はないか？</td>\n",
       "      <td>23±1℃、75±5％RH、散光、6か月で含量・外観に変化なしというデータあるため、問題ない...</td>\n",
       "    </tr>\n",
       "    <tr>\n",
       "      <th>2014-01-06</th>\n",
       "      <td>調剤・処方</td>\n",
       "      <td>ゾビラックス</td>\n",
       "      <td>持参薬でゾビラックスをもってきた患者で継続使用したいが、処方がうてない。移植後の患者である。</td>\n",
       "      <td>移植患者限定での使用となっているため、検索用語が「いしょく」となっている。</td>\n",
       "    </tr>\n",
       "    <tr>\n",
       "      <th>2014-01-06</th>\n",
       "      <td>安定性</td>\n",
       "      <td>C1吸入</td>\n",
       "      <td>C1吸入の使用期限は？</td>\n",
       "      <td>配合後の安定性等をふまえて、1ヶ月を目安に破棄してもらう。</td>\n",
       "    </tr>\n",
       "    <tr>\n",
       "      <th>2014-01-06</th>\n",
       "      <td>相互作用</td>\n",
       "      <td>イグザレルト、フロリードゲル</td>\n",
       "      <td>イグザレルトはアゾール系抗真菌薬の経口剤に禁忌だが、フロリードゲルもこれに該当するか？その影...</td>\n",
       "      <td>イグザレルト販売メーカーより、フロリードゲルも併用禁忌に該当するとのこと。機序としてはミコナ...</td>\n",
       "    </tr>\n",
       "    <tr>\n",
       "      <th>2014-01-06</th>\n",
       "      <td>その他</td>\n",
       "      <td>リオベル配合錠LD、クレストール錠2.5mg</td>\n",
       "      <td>簡易懸濁の可否について知りたい。</td>\n",
       "      <td>リオベル配合錠は可能（打錠後10分で溶解、8Fr通過）、クレストール錠2.5mgはデータなし...</td>\n",
       "    </tr>\n",
       "  </tbody>\n",
       "</table>\n",
       "</div>"
      ],
      "text/plain": [
       "           category                    drug  \\\n",
       "date                                          \n",
       "2014-01-06      安定性                  エンドキサン   \n",
       "2014-01-06    調剤・処方                  ゾビラックス   \n",
       "2014-01-06      安定性                    C1吸入   \n",
       "2014-01-06     相互作用          イグザレルト、フロリードゲル   \n",
       "2014-01-06      その他  リオベル配合錠LD、クレストール錠2.5mg   \n",
       "\n",
       "                                                     question  \\\n",
       "date                                                            \n",
       "2014-01-06                エンドキサンが10日くらい室温で保管されていた。安定性に問題はないか？   \n",
       "2014-01-06     持参薬でゾビラックスをもってきた患者で継続使用したいが、処方がうてない。移植後の患者である。   \n",
       "2014-01-06                                        C1吸入の使用期限は？   \n",
       "2014-01-06  イグザレルトはアゾール系抗真菌薬の経口剤に禁忌だが、フロリードゲルもこれに該当するか？その影...   \n",
       "2014-01-06                                   簡易懸濁の可否について知りたい。   \n",
       "\n",
       "                                                       answer  \n",
       "date                                                           \n",
       "2014-01-06  23±1℃、75±5％RH、散光、6か月で含量・外観に変化なしというデータあるため、問題ない...  \n",
       "2014-01-06              移植患者限定での使用となっているため、検索用語が「いしょく」となっている。  \n",
       "2014-01-06                      配合後の安定性等をふまえて、1ヶ月を目安に破棄してもらう。  \n",
       "2014-01-06  イグザレルト販売メーカーより、フロリードゲルも併用禁忌に該当するとのこと。機序としてはミコナ...  \n",
       "2014-01-06  リオベル配合錠は可能（打錠後10分で溶解、8Fr通過）、クレストール錠2.5mgはデータなし...  "
      ]
     },
     "execution_count": 10,
     "metadata": {},
     "output_type": "execute_result"
    }
   ],
   "source": [
    "df.head()"
   ]
  },
  {
   "cell_type": "code",
   "execution_count": 11,
   "id": "4146ef4e-700b-4167-8819-258e331add96",
   "metadata": {},
   "outputs": [
    {
     "name": "stderr",
     "output_type": "stream",
     "text": [
      "c:\\Users\\AKIE01-2022\\AppData\\Local\\Programs\\Python\\Python311\\Lib\\site-packages\\openpyxl\\worksheet\\_reader.py:312: UserWarning: Data Validation extension is not supported and will be removed\n",
      "  warn(msg)\n",
      "C:\\Users\\AKIE01-2022\\AppData\\Local\\Temp\\ipykernel_15528\\3677385562.py:5: FutureWarning: DataFrame.set_axis 'inplace' keyword is deprecated and will be removed in a future version. Use `obj = obj.set_axis(..., copy=False)` instead\n",
      "  df_n.set_axis(['date', 'category', 'drug', 'question', 'answer', 'reference'],\n"
     ]
    }
   ],
   "source": [
    "#Excelファイル読込みと加工（新データファイル）\n",
    "df_n = pd.read_excel('【2022.1月から】問い合わせ記録_2021改訂版.xlsx', \n",
    "                    sheet_name='問い合わせ記録', header=1)\n",
    "df_n.drop(df_n.columns[[1, 2, 3, 4, 5, 11, 12]], axis=1, inplace=True)\n",
    "df_n.set_axis(['date', 'category', 'drug', 'question', 'answer', 'reference'], \n",
    "            axis=1, inplace=True)\n",
    "df_n.set_index('date', inplace=True)\n",
    "df_n.fillna('―', inplace=True)"
   ]
  },
  {
   "cell_type": "code",
   "execution_count": 12,
   "id": "8ae8c8f5-4452-4b94-aaf2-b11aedece739",
   "metadata": {},
   "outputs": [
    {
     "data": {
      "text/html": [
       "<div>\n",
       "<style scoped>\n",
       "    .dataframe tbody tr th:only-of-type {\n",
       "        vertical-align: middle;\n",
       "    }\n",
       "\n",
       "    .dataframe tbody tr th {\n",
       "        vertical-align: top;\n",
       "    }\n",
       "\n",
       "    .dataframe thead th {\n",
       "        text-align: right;\n",
       "    }\n",
       "</style>\n",
       "<table border=\"1\" class=\"dataframe\">\n",
       "  <thead>\n",
       "    <tr style=\"text-align: right;\">\n",
       "      <th></th>\n",
       "      <th>category</th>\n",
       "      <th>drug</th>\n",
       "      <th>question</th>\n",
       "      <th>answer</th>\n",
       "      <th>reference</th>\n",
       "    </tr>\n",
       "    <tr>\n",
       "      <th>date</th>\n",
       "      <th></th>\n",
       "      <th></th>\n",
       "      <th></th>\n",
       "      <th></th>\n",
       "      <th></th>\n",
       "    </tr>\n",
       "  </thead>\n",
       "  <tbody>\n",
       "    <tr>\n",
       "      <th>2022-01-04 00:00:00</th>\n",
       "      <td>配合変化</td>\n",
       "      <td>ゾレドロン酸点滴静注、硫酸Mg補正液、カルチコール注射液8.5%</td>\n",
       "      <td>左記3剤をそれぞれ生食100mLに溶解したものを投与するが、同一ルート内で同時に投与して良いか？</td>\n",
       "      <td>ゾレドロン酸点滴静注はMg、Ca製剤との同時投与は避ける必要があり、カルチコール注射液は硫酸...</td>\n",
       "      <td>注射薬調剤監査マニュアル（第4版、2021年版）</td>\n",
       "    </tr>\n",
       "    <tr>\n",
       "      <th>2022-01-04 00:00:00</th>\n",
       "      <td>簡易懸濁・経管投与</td>\n",
       "      <td>アシクロビル錠200mg</td>\n",
       "      <td>データベースでは簡易懸濁可となっているが、企業情報ありと記されている。企業情報の詳細を知りたい。</td>\n",
       "      <td>企業の社内資料では、55℃の水で5分以内に溶解し8Frのチューブを通過するというデータが示さ...</td>\n",
       "      <td>アシクロビル錠200mg「トーワ」1剤ファイル</td>\n",
       "    </tr>\n",
       "    <tr>\n",
       "      <th>2022-01-04 00:00:00</th>\n",
       "      <td>調剤・処方</td>\n",
       "      <td>リンデロンV軟膏</td>\n",
       "      <td>リンデロンV軟膏が処方されているが、患者はリンデロンVG軟膏を希望されている。変更可能か？</td>\n",
       "      <td>処方医不在で代表部長に確認し変更。</td>\n",
       "      <td>―</td>\n",
       "    </tr>\n",
       "    <tr>\n",
       "      <th>2022-01-05 00:00:00</th>\n",
       "      <td>粉砕情報</td>\n",
       "      <td>ブイフェンド錠</td>\n",
       "      <td>ブイフェンド錠を胃管から投与したい患者がいる。簡易懸濁の情報に粉砕した場合は可としてあるが、...</td>\n",
       "      <td>ブイフェンド錠50㎎は5分で簡易懸濁できるが、200㎎はコーティングを壊さないと10分以内の...</td>\n",
       "      <td>ファイザー提供\\n崩壊懸濁試験結果</td>\n",
       "    </tr>\n",
       "    <tr>\n",
       "      <th>2022-01-06 00:00:00</th>\n",
       "      <td>薬物動態</td>\n",
       "      <td>イーケプラ、ホリゾン等</td>\n",
       "      <td>透析中に起こった痙攣発作にて、イーケプラ、ホリゾンを使用したが、効果が得られなかった患者がい...</td>\n",
       "      <td>透析患者への投薬ガイドブックを参照し確認。イーケプラは4時間透析全体としてはクリアランスの高...</td>\n",
       "      <td>透析患者への投薬ガイドブック</td>\n",
       "    </tr>\n",
       "  </tbody>\n",
       "</table>\n",
       "</div>"
      ],
      "text/plain": [
       "                      category                              drug  \\\n",
       "date                                                               \n",
       "2022-01-04 00:00:00       配合変化  ゾレドロン酸点滴静注、硫酸Mg補正液、カルチコール注射液8.5%   \n",
       "2022-01-04 00:00:00  簡易懸濁・経管投与                      アシクロビル錠200mg   \n",
       "2022-01-04 00:00:00      調剤・処方                          リンデロンV軟膏   \n",
       "2022-01-05 00:00:00       粉砕情報                           ブイフェンド錠   \n",
       "2022-01-06 00:00:00       薬物動態                       イーケプラ、ホリゾン等   \n",
       "\n",
       "                                                              question  \\\n",
       "date                                                                     \n",
       "2022-01-04 00:00:00   左記3剤をそれぞれ生食100mLに溶解したものを投与するが、同一ルート内で同時に投与して良いか？   \n",
       "2022-01-04 00:00:00   データベースでは簡易懸濁可となっているが、企業情報ありと記されている。企業情報の詳細を知りたい。   \n",
       "2022-01-04 00:00:00      リンデロンV軟膏が処方されているが、患者はリンデロンVG軟膏を希望されている。変更可能か？   \n",
       "2022-01-05 00:00:00  ブイフェンド錠を胃管から投与したい患者がいる。簡易懸濁の情報に粉砕した場合は可としてあるが、...   \n",
       "2022-01-06 00:00:00  透析中に起こった痙攣発作にて、イーケプラ、ホリゾンを使用したが、効果が得られなかった患者がい...   \n",
       "\n",
       "                                                                answer  \\\n",
       "date                                                                     \n",
       "2022-01-04 00:00:00  ゾレドロン酸点滴静注はMg、Ca製剤との同時投与は避ける必要があり、カルチコール注射液は硫酸...   \n",
       "2022-01-04 00:00:00  企業の社内資料では、55℃の水で5分以内に溶解し8Frのチューブを通過するというデータが示さ...   \n",
       "2022-01-04 00:00:00                                  処方医不在で代表部長に確認し変更。   \n",
       "2022-01-05 00:00:00  ブイフェンド錠50㎎は5分で簡易懸濁できるが、200㎎はコーティングを壊さないと10分以内の...   \n",
       "2022-01-06 00:00:00  透析患者への投薬ガイドブックを参照し確認。イーケプラは4時間透析全体としてはクリアランスの高...   \n",
       "\n",
       "                                    reference  \n",
       "date                                           \n",
       "2022-01-04 00:00:00  注射薬調剤監査マニュアル（第4版、2021年版）  \n",
       "2022-01-04 00:00:00   アシクロビル錠200mg「トーワ」1剤ファイル  \n",
       "2022-01-04 00:00:00                         ―  \n",
       "2022-01-05 00:00:00         ファイザー提供\\n崩壊懸濁試験結果  \n",
       "2022-01-06 00:00:00            透析患者への投薬ガイドブック  "
      ]
     },
     "execution_count": 12,
     "metadata": {},
     "output_type": "execute_result"
    }
   ],
   "source": [
    "df_n.head()"
   ]
  },
  {
   "cell_type": "code",
   "execution_count": 2,
   "id": "46f65d8a-3a92-4663-9c81-b4a757d88f28",
   "metadata": {},
   "outputs": [],
   "source": [
    "#db作成（既存のdbへの上書き）\n",
    "db = sqlite3.connect('toiawase.db')\n",
    "cur = db.cursor()\n",
    "#2021年までのデータテーブル作成\n",
    "sql = \"\"\"\n",
    "    CREATE TABLE IF NOT EXISTS T_old(\n",
    "        \"date\" NUMERIC, \n",
    "        \"category\" STRING, \n",
    "        \"drug\" STRING, \n",
    "        \"question\" STRING, \n",
    "        \"answer\" STRING\n",
    "        );\n",
    "\"\"\"\n",
    "cur.execute(sql)\n",
    "#2022年以降のデータテーブル作成\n",
    "sql = \"\"\"\n",
    "    CREATE TABLE IF NOT EXISTS T_new(\n",
    "        \"date\" NUMERIC, \n",
    "        \"category\" STRING, \n",
    "        \"drug\" STRING, \n",
    "        \"question\" STRING, \n",
    "        \"answer\" STRING,\n",
    "        \"reference\" STRING\n",
    "        );\n",
    "\"\"\"\n",
    "cur.execute(sql)\n",
    "db.commit()"
   ]
  },
  {
   "cell_type": "code",
   "execution_count": 3,
   "id": "280e6c39-9b19-411e-9c94-67b63e9e7969",
   "metadata": {},
   "outputs": [
    {
     "ename": "NameError",
     "evalue": "name 'df' is not defined",
     "output_type": "error",
     "traceback": [
      "\u001b[1;31m---------------------------------------------------------------------------\u001b[0m",
      "\u001b[1;31mNameError\u001b[0m                                 Traceback (most recent call last)",
      "\u001b[1;32m~\\AppData\\Local\\Temp\\ipykernel_13320\\1653490022.py\u001b[0m in \u001b[0;36m<module>\u001b[1;34m\u001b[0m\n\u001b[0;32m      1\u001b[0m \u001b[1;31m#テーブル（旧データファイル）データの上書き\u001b[0m\u001b[1;33m\u001b[0m\u001b[1;33m\u001b[0m\u001b[0m\n\u001b[1;32m----> 2\u001b[1;33m \u001b[0mdf\u001b[0m\u001b[1;33m.\u001b[0m\u001b[0mto_sql\u001b[0m\u001b[1;33m(\u001b[0m\u001b[1;34m'T_old'\u001b[0m\u001b[1;33m,\u001b[0m \u001b[0mdb\u001b[0m\u001b[1;33m,\u001b[0m \u001b[0mif_exists\u001b[0m\u001b[1;33m=\u001b[0m\u001b[1;34m'replace'\u001b[0m\u001b[1;33m)\u001b[0m\u001b[1;33m\u001b[0m\u001b[1;33m\u001b[0m\u001b[0m\n\u001b[0m\u001b[0;32m      3\u001b[0m \u001b[0mcur\u001b[0m\u001b[1;33m.\u001b[0m\u001b[0mexecute\u001b[0m\u001b[1;33m(\u001b[0m\u001b[1;34m\"SELECT * FROM T_old\"\u001b[0m\u001b[1;33m)\u001b[0m\u001b[1;33m\u001b[0m\u001b[1;33m\u001b[0m\u001b[0m\n\u001b[0;32m      4\u001b[0m \u001b[0mdata\u001b[0m \u001b[1;33m=\u001b[0m \u001b[0mcur\u001b[0m\u001b[1;33m.\u001b[0m\u001b[0mfetchall\u001b[0m\u001b[1;33m(\u001b[0m\u001b[1;33m)\u001b[0m\u001b[1;33m\u001b[0m\u001b[1;33m\u001b[0m\u001b[0m\n\u001b[0;32m      5\u001b[0m \u001b[1;31m#テーブル（新データファイル）データの上書き\u001b[0m\u001b[1;33m\u001b[0m\u001b[1;33m\u001b[0m\u001b[0m\n",
      "\u001b[1;31mNameError\u001b[0m: name 'df' is not defined"
     ]
    }
   ],
   "source": [
    "#テーブル（旧データファイル）データの上書き\n",
    "df.to_sql('T_old', db, if_exists='replace')\n",
    "cur.execute(\"SELECT * FROM T_old\")\n",
    "data = cur.fetchall()\n",
    "#テーブル（新データファイル）データの上書き\n",
    "df_n.to_sql('T_new', db, if_exists='replace')\n",
    "cur.execute(\"SELECT * FROM T_new\")\n",
    "data_n = cur.fetchall()\n"
   ]
  },
  {
   "cell_type": "code",
   "execution_count": 4,
   "id": "4cda7700-2f70-4b66-97e6-f4def76a0c83",
   "metadata": {},
   "outputs": [
    {
     "name": "stdin",
     "output_type": "stream",
     "text": [
      " アイソボリン\n"
     ]
    }
   ],
   "source": [
    "kensaku = str(input())"
   ]
  },
  {
   "cell_type": "code",
   "execution_count": 5,
   "id": "df21d332-e3e6-406f-b117-bfbc4ea2bbd8",
   "metadata": {},
   "outputs": [],
   "source": [
    "kensaku = '%' + kensaku + '%'\n",
    "\n",
    "cur.execute(\"SELECT * FROM T_old WHERE category LIKE ? OR drug LIKE ? OR question LIKE ? OR answer LIKE ?\", \n",
    "            [kensaku, kensaku, kensaku, kensaku])\n",
    "data = cur.fetchall()\n",
    "\n",
    "cur.execute(\"SELECT * FROM T_new WHERE category LIKE ? OR drug LIKE ? OR question LIKE ? OR answer LIKE ? OR reference LIKE ?\", \n",
    "            [kensaku, kensaku, kensaku, kensaku, kensaku])\n",
    "data_n = cur.fetchall()"
   ]
  },
  {
   "cell_type": "code",
   "execution_count": 6,
   "id": "ecd32d68-0e26-4921-9e1f-955cef6a89b4",
   "metadata": {},
   "outputs": [
    {
     "data": {
      "text/plain": [
       "1"
      ]
     },
     "execution_count": 6,
     "metadata": {},
     "output_type": "execute_result"
    }
   ],
   "source": [
    "len(data_n)"
   ]
  },
  {
   "cell_type": "code",
   "execution_count": 7,
   "id": "6379aa21-061d-4b5a-b9eb-5fa8e2b5b9e1",
   "metadata": {},
   "outputs": [
    {
     "data": {
      "text/plain": [
       "[(None,\n",
       "  'その他',\n",
       "  'アイソボリン',\n",
       "  'アイソボリン点滴静注用25mgと100mg各々にどのくらい溶解液が充填可能か。',\n",
       "  'メーカー学術に確認。空バイアルでの充填可能量しかデータないとのこと。25mg製剤は8.6ml、100製剤は24.5mlとなる。その旨を5南担当薬剤師へ連絡。',\n",
       "  'メーカー学術')]"
      ]
     },
     "execution_count": 7,
     "metadata": {},
     "output_type": "execute_result"
    }
   ],
   "source": [
    "data_n"
   ]
  },
  {
   "cell_type": "code",
   "execution_count": 8,
   "id": "093b9de3-9d80-4c73-a83c-017b9dcf20bf",
   "metadata": {},
   "outputs": [],
   "source": [
    "cur.close()\n",
    "db.close()"
   ]
  },
  {
   "cell_type": "code",
   "execution_count": null,
   "id": "23978b60-6c3e-4999-803b-20b8843f8359",
   "metadata": {},
   "outputs": [],
   "source": []
  },
  {
   "cell_type": "code",
   "execution_count": 9,
   "id": "00dd2ef5-760f-4fd4-b74f-0efea09ab0d1",
   "metadata": {},
   "outputs": [
    {
     "name": "stdin",
     "output_type": "stream",
     "text": [
      " アイソボリン\n"
     ]
    }
   ],
   "source": [
    "# dbの動作確認用\n",
    "db = sqlite3.connect('toiawase.db')\n",
    "cur = db.cursor()\n",
    "\n",
    "kensaku = str(input())\n",
    "kensaku = '%' + kensaku + '%'\n",
    "\n",
    "cur.execute(\"SELECT * FROM T_old WHERE category LIKE ? OR drug LIKE ? OR question LIKE ? OR answer LIKE ?\", [kensaku, kensaku, kensaku, kensaku])\n",
    "data = cur.fetchall()\n",
    "cur.execute(\"SELECT * FROM T_new WHERE category LIKE ? OR drug LIKE ? OR question LIKE ? OR answer LIKE ? OR reference LIKE ?\", [kensaku, kensaku, kensaku, kensaku, kensaku])\n",
    "data_n = cur.fetchall()\n",
    "cur.close()\n",
    "db.close()"
   ]
  },
  {
   "cell_type": "code",
   "execution_count": 10,
   "id": "cfa651e1-8dff-413b-90e6-b2d9eef57e8c",
   "metadata": {},
   "outputs": [
    {
     "name": "stdout",
     "output_type": "stream",
     "text": [
      "旧データベース：1件\n",
      "新データベース：1件\n"
     ]
    }
   ],
   "source": [
    "print(f'旧データベース：{len(data)}件')\n",
    "print(f'新データベース：{len(data_n)}件')"
   ]
  },
  {
   "cell_type": "code",
   "execution_count": 13,
   "id": "d995d313-5057-44ad-ac5f-25e5a6cdf0b9",
   "metadata": {
    "tags": []
   },
   "outputs": [
    {
     "data": {
      "text/plain": [
       "('2018-02-21 00:00:00',\n",
       " '配合変化',\n",
       " 'トポテシン、レボホリナート',\n",
       " '生食が本体で側管からトポテシンとレボホリナートが入っている患者にて、三方活栓の装着方向を誤りトポテシンとレボホリナートが患者側ではなく生食へ逆流してしまった。色調が黄色くなっているが、配合変化はどうか。投与続行してもよいか。',\n",
       " 'レボホリナートのメーカー作成の配合変化表においては色調およびpHの変化はなかった(24hr)。次いでトポテシンのメーカー（第一三共）のお薬センターに確認した。第一三共内では直接的な配合変化データはなかったとのこと。ただしCPT-11の物性から中性～アルカリ（pH≧6）になると環状構造の破壊により色調変化（黄色が濃くなる？）および残存率の低下がおこるというデータがあると。さらに、強アルカリとの混合においてCPT-11は30分で色調変化を起こし残存率80%まで下がり、24hrで残存率70％になったとのこと。アイソボリン（レボホリナートの先発品）のpHが6.8-8であることを考慮すると、CPT-11の開環もおこり得るのではないかとのこと。以上のことを連絡者へ伝えたが、すでに医師判断により投与続行となっていた。')"
      ]
     },
     "execution_count": 13,
     "metadata": {},
     "output_type": "execute_result"
    }
   ],
   "source": [
    "data[0]"
   ]
  },
  {
   "cell_type": "code",
   "execution_count": null,
   "id": "ac74f471-29ec-4d14-b0ad-74f7fb46491f",
   "metadata": {},
   "outputs": [],
   "source": []
  }
 ],
 "metadata": {
  "kernelspec": {
   "display_name": "Python 3 (ipykernel)",
   "language": "python",
   "name": "python3"
  },
  "language_info": {
   "codemirror_mode": {
    "name": "ipython",
    "version": 3
   },
   "file_extension": ".py",
   "mimetype": "text/x-python",
   "name": "python",
   "nbconvert_exporter": "python",
   "pygments_lexer": "ipython3",
   "version": "3.9.13"
  },
  "vscode": {
   "interpreter": {
    "hash": "e8cf365c43219cd8a0ee89aedf91fb91c81d5bf51a25d374772638f88ff65e5c"
   }
  }
 },
 "nbformat": 4,
 "nbformat_minor": 5
}
